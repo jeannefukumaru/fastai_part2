{
 "cells": [
  {
   "cell_type": "code",
   "execution_count": 7,
   "metadata": {},
   "outputs": [],
   "source": [
    "from torchtext import vocab, data    \n",
    "PATH='.'  \n",
    "TRN_PATH = 'trn/'\n",
    "VAL_PATH = 'val/'\n",
    "TRN = f'{PATH}{TRN_PATH}'\n",
    "VAL = f'{PATH}{VAL_PATH}'"
   ]
  },
  {
   "cell_type": "code",
   "execution_count": 3,
   "metadata": {},
   "outputs": [
    {
     "name": "stdout",
     "output_type": "stream",
     "text": [
      "Collecting torchtext\n",
      "\u001b[?25l  Downloading https://files.pythonhosted.org/packages/c6/bc/b28b9efb4653c03e597ed207264eea45862b5260f48e9f010b5068d64db1/torchtext-0.3.1-py3-none-any.whl (62kB)\n",
      "\u001b[K    100% |████████████████████████████████| 71kB 5.1MB/s ta 0:00:01\n",
      "\u001b[?25hRequirement already satisfied: numpy in /Users/nus/anaconda3/lib/python3.6/site-packages (from torchtext) (1.15.4)\n",
      "Requirement already satisfied: tqdm in /Users/nus/anaconda3/lib/python3.6/site-packages (from torchtext) (4.28.1)\n",
      "Requirement already satisfied: torch in /Users/nus/anaconda3/lib/python3.6/site-packages (from torchtext) (0.4.1)\n",
      "Requirement already satisfied: requests in /Users/nus/anaconda3/lib/python3.6/site-packages (from torchtext) (2.21.0)\n",
      "Requirement already satisfied: certifi>=2017.4.17 in /Users/nus/anaconda3/lib/python3.6/site-packages (from requests->torchtext) (2018.11.29)\n",
      "Requirement already satisfied: idna<2.9,>=2.5 in /Users/nus/anaconda3/lib/python3.6/site-packages (from requests->torchtext) (2.8)\n",
      "Requirement already satisfied: urllib3<1.25,>=1.21.1 in /Users/nus/anaconda3/lib/python3.6/site-packages (from requests->torchtext) (1.24.1)\n",
      "Requirement already satisfied: chardet<3.1.0,>=3.0.2 in /Users/nus/anaconda3/lib/python3.6/site-packages (from requests->torchtext) (3.0.4)\n",
      "Installing collected packages: torchtext\n",
      "Successfully installed torchtext-0.3.1\n"
     ]
    }
   ],
   "source": [
    "!pip install torchtext"
   ]
  },
  {
   "cell_type": "code",
   "execution_count": null,
   "metadata": {},
   "outputs": [],
   "source": []
  }
 ],
 "metadata": {
  "kernelspec": {
   "display_name": "Python 3",
   "language": "python",
   "name": "python3"
  },
  "language_info": {
   "codemirror_mode": {
    "name": "ipython",
    "version": 3
   },
   "file_extension": ".py",
   "mimetype": "text/x-python",
   "name": "python",
   "nbconvert_exporter": "python",
   "pygments_lexer": "ipython3",
   "version": "3.6.7"
  },
  "toc": {
   "base_numbering": 1,
   "nav_menu": {},
   "number_sections": true,
   "sideBar": true,
   "skip_h1_title": false,
   "title_cell": "Table of Contents",
   "title_sidebar": "Contents",
   "toc_cell": false,
   "toc_position": {},
   "toc_section_display": true,
   "toc_window_display": false
  }
 },
 "nbformat": 4,
 "nbformat_minor": 2
}
